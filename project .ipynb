{
 "cells": [
  {
   "cell_type": "code",
   "execution_count": 205,
   "id": "75d81570",
   "metadata": {},
   "outputs": [
    {
     "data": {
      "text/html": [
       "<div>\n",
       "<style scoped>\n",
       "    .dataframe tbody tr th:only-of-type {\n",
       "        vertical-align: middle;\n",
       "    }\n",
       "\n",
       "    .dataframe tbody tr th {\n",
       "        vertical-align: top;\n",
       "    }\n",
       "\n",
       "    .dataframe thead th {\n",
       "        text-align: right;\n",
       "    }\n",
       "</style>\n",
       "<table border=\"1\" class=\"dataframe\">\n",
       "  <thead>\n",
       "    <tr style=\"text-align: right;\">\n",
       "      <th></th>\n",
       "      <th>author</th>\n",
       "      <th>Poem</th>\n",
       "      <th>poem name</th>\n",
       "      <th>age</th>\n",
       "      <th>Genre</th>\n",
       "      <th>preprocessed_poem</th>\n",
       "    </tr>\n",
       "  </thead>\n",
       "  <tbody>\n",
       "    <tr>\n",
       "      <th>0</th>\n",
       "      <td>WILLIAM SHAKESPEARE</td>\n",
       "      <td>Let the bird of loudest lay\\r\\nOn the sole Ara...</td>\n",
       "      <td>The Phoenix and the Turtle</td>\n",
       "      <td>Renaissance</td>\n",
       "      <td>Mythology &amp; Folklore</td>\n",
       "      <td>[let, bird, loudest, lay, sole, arabian, tree,...</td>\n",
       "    </tr>\n",
       "    <tr>\n",
       "      <th>1</th>\n",
       "      <td>DUCHESS OF NEWCASTLE MARGARET CAVENDISH</td>\n",
       "      <td>Sir Charles into my chamber coming in,\\r\\nWhen...</td>\n",
       "      <td>An Epilogue to the Above</td>\n",
       "      <td>Renaissance</td>\n",
       "      <td>Mythology &amp; Folklore</td>\n",
       "      <td>[sir, charles, chamber, coming, writing, fairy...</td>\n",
       "    </tr>\n",
       "    <tr>\n",
       "      <th>2</th>\n",
       "      <td>THOMAS BASTARD</td>\n",
       "      <td>Our vice runs beyond all that old men saw,\\r\\n...</td>\n",
       "      <td>Book 7, Epigram 42</td>\n",
       "      <td>Renaissance</td>\n",
       "      <td>Mythology &amp; Folklore</td>\n",
       "      <td>[vice, runs, beyond, old, men, saw, far, authe...</td>\n",
       "    </tr>\n",
       "    <tr>\n",
       "      <th>3</th>\n",
       "      <td>EDMUND SPENSER</td>\n",
       "      <td>Lo I the man, whose Muse whilome did maske,\\r\\...</td>\n",
       "      <td>from The Faerie Queene: Book I, Canto I</td>\n",
       "      <td>Renaissance</td>\n",
       "      <td>Mythology &amp; Folklore</td>\n",
       "      <td>[lo, man, whose, muse, whilome, maske, time, t...</td>\n",
       "    </tr>\n",
       "    <tr>\n",
       "      <th>4</th>\n",
       "      <td>RICHARD BARNFIELD</td>\n",
       "      <td>Long have I longd to see my love againe,\\r\\nSt...</td>\n",
       "      <td>Sonnet 16</td>\n",
       "      <td>Renaissance</td>\n",
       "      <td>Mythology &amp; Folklore</td>\n",
       "      <td>[long, longd, see, love, againe, still, wisht,...</td>\n",
       "    </tr>\n",
       "  </tbody>\n",
       "</table>\n",
       "</div>"
      ],
      "text/plain": [
       "                                    author  \\\n",
       "0                      WILLIAM SHAKESPEARE   \n",
       "1  DUCHESS OF NEWCASTLE MARGARET CAVENDISH   \n",
       "2                           THOMAS BASTARD   \n",
       "3                           EDMUND SPENSER   \n",
       "4                        RICHARD BARNFIELD   \n",
       "\n",
       "                                                Poem  \\\n",
       "0  Let the bird of loudest lay\\r\\nOn the sole Ara...   \n",
       "1  Sir Charles into my chamber coming in,\\r\\nWhen...   \n",
       "2  Our vice runs beyond all that old men saw,\\r\\n...   \n",
       "3  Lo I the man, whose Muse whilome did maske,\\r\\...   \n",
       "4  Long have I longd to see my love againe,\\r\\nSt...   \n",
       "\n",
       "                                 poem name          age                 Genre  \\\n",
       "0               The Phoenix and the Turtle  Renaissance  Mythology & Folklore   \n",
       "1                 An Epilogue to the Above  Renaissance  Mythology & Folklore   \n",
       "2                       Book 7, Epigram 42  Renaissance  Mythology & Folklore   \n",
       "3  from The Faerie Queene: Book I, Canto I  Renaissance  Mythology & Folklore   \n",
       "4                                Sonnet 16  Renaissance  Mythology & Folklore   \n",
       "\n",
       "                                   preprocessed_poem  \n",
       "0  [let, bird, loudest, lay, sole, arabian, tree,...  \n",
       "1  [sir, charles, chamber, coming, writing, fairy...  \n",
       "2  [vice, runs, beyond, old, men, saw, far, authe...  \n",
       "3  [lo, man, whose, muse, whilome, maske, time, t...  \n",
       "4  [long, longd, see, love, againe, still, wisht,...  "
      ]
     },
     "execution_count": 205,
     "metadata": {},
     "output_type": "execute_result"
    }
   ],
   "source": [
    "import pandas as pd\n",
    "import numpy as np\n",
    "from sklearn.model_selection import train_test_split\n",
    "from sklearn.feature_extraction.text import TfidfVectorizer\n",
    "from sklearn.naive_bayes import MultinomialNB\n",
    "from sklearn.metrics import accuracy_score, classification_report\n",
    "from nltk.corpus import stopwords\n",
    "from nltk.stem import PorterStemmer\n",
    "from nltk.tokenize import word_tokenize\n",
    "import re\n",
    "\n",
    "import pandas as pd\n",
    "import re\n",
    "from nltk.tokenize import word_tokenize\n",
    "from nltk.corpus import stopwords\n",
    "from nltk.stem import PorterStemmer\n",
    "\n",
    "# Sample DataFrame creation\n",
    "\n",
    "df = pd.read_csv('all.csv')\n",
    "df = df.dropna(subset=['Poem'])\n",
    "\n",
    "# Preprocessing function\n",
    "def preprocess_text(text):\n",
    "    # Convert to lowercase\n",
    "    text = text.lower()\n",
    "    \n",
    "    # Remove special characters and numbers\n",
    "    text = re.sub(r'[^a-zA-Z\\s]', '', text)\n",
    "    \n",
    "    # Tokenization\n",
    "    tokens = word_tokenize(text)\n",
    "    \n",
    "    # Remove stopwords\n",
    "    stop_words = set(stopwords.words('english'))\n",
    "    \n",
    "    tokens = [token for token in tokens if token not in stop_words]\n",
    "    \n",
    "    \n",
    "    return tokens\n",
    "\n",
    "# Apply preprocessing to the poem column\n",
    "df['preprocessed_poem'] = df['Poem'].apply(preprocess_text)\n",
    "df.head()\n"
   ]
  },
  {
   "cell_type": "code",
   "execution_count": 206,
   "id": "5d48ff19",
   "metadata": {
    "scrolled": true
   },
   "outputs": [],
   "source": [
    "import gensim.downloader as api\n",
    "from gensim.models import Word2Vec\n",
    "\n",
    "#we can use glove below but the result from word2vec were better compared to glove \n",
    "#wv = api.load('glove-wiki-gigaword-300')\n",
    "\n",
    "wv = api.load('word2vec-google-news-300')\n",
    "\n",
    "\n"
   ]
  },
  {
   "cell_type": "code",
   "execution_count": 207,
   "id": "8e3f9c1c",
   "metadata": {},
   "outputs": [],
   "source": [
    "#this loop is convert tokens into vector using pre trained word embedding \n",
    "def sent_vec(sent):\n",
    "    vector_size = wv.vector_size\n",
    "    wv_res = np.zeros(vector_size)\n",
    "    ctr = 1\n",
    "    for w in sent:\n",
    "        if w in wv:\n",
    "            ctr += 1\n",
    "            wv_res += wv[w]\n",
    "    wv_res = wv_res / ctr  \n",
    "    return wv_res\n",
    "df ['vec'] = df['preprocessed_poem'].apply(sent_vec)\n",
    "X = df['vec'].to_list()\n",
    "y = df['Genre'].to_list()"
   ]
  },
  {
   "cell_type": "code",
   "execution_count": 208,
   "id": "cedcadfa",
   "metadata": {},
   "outputs": [
    {
     "name": "stdout",
     "output_type": "stream",
     "text": [
      "                      precision    recall  f1-score   support\n",
      "\n",
      "                Love       0.81      0.88      0.84        76\n",
      "Mythology & Folklore       0.67      0.15      0.25        13\n",
      "              Nature       0.59      0.65      0.62        26\n",
      "\n",
      "            accuracy                           0.75       115\n",
      "           macro avg       0.69      0.56      0.57       115\n",
      "        weighted avg       0.74      0.75      0.72       115\n",
      "\n"
     ]
    }
   ],
   "source": [
    "from sklearn.model_selection import train_test_split\n",
    "from sklearn.svm import SVC\n",
    "from sklearn.metrics import classification_report\n",
    "X_train, X_test, y_train, y_test = train_test_split(X, y, test_size=0.2, random_state=42)\n",
    "\n",
    "# this a suppport vector classifier \n",
    "svm_model = SVC(kernel='linear')\n",
    "svm_model.fit(X_train, y_train)\n",
    "\n",
    "y_pred = svm_model.predict(X_test)\n",
    "\n",
    "\n",
    "print(classification_report(y_test, y_pred))"
   ]
  },
  {
   "cell_type": "code",
   "execution_count": 209,
   "id": "27a4070f",
   "metadata": {},
   "outputs": [
    {
     "name": "stdout",
     "output_type": "stream",
     "text": [
      "                      precision    recall  f1-score   support\n",
      "\n",
      "                Love       0.82      0.89      0.86        76\n",
      "Mythology & Folklore       0.50      0.08      0.13        13\n",
      "              Nature       0.60      0.69      0.64        26\n",
      "\n",
      "            accuracy                           0.76       115\n",
      "           macro avg       0.64      0.55      0.54       115\n",
      "        weighted avg       0.73      0.76      0.73       115\n",
      "\n"
     ]
    }
   ],
   "source": [
    "from sklearn.model_selection import train_test_split\n",
    "from sklearn.linear_model import LogisticRegression\n",
    "from sklearn.metrics import classification_report\n",
    "\n",
    "\n",
    "X_train, X_test, y_train, y_test = train_test_split(X, y, test_size=0.2, random_state=42)\n",
    "\n",
    "# Logistic Regression model\n",
    "logistic_model = LogisticRegression()\n",
    "logistic_model.fit(X_train, y_train)\n",
    "\n",
    "\n",
    "y_pred = logistic_model.predict(X_test)\n",
    "\n",
    "# Classification Report\n",
    "print(classification_report(y_test, y_pred))\n"
   ]
  },
  {
   "cell_type": "code",
   "execution_count": 210,
   "id": "626cb76d",
   "metadata": {},
   "outputs": [
    {
     "name": "stdout",
     "output_type": "stream",
     "text": [
      "Accuracy: 0.77\n",
      "Classification Report:\n",
      "                       precision    recall  f1-score   support\n",
      "\n",
      "                Love       0.80      0.93      0.86        76\n",
      "Mythology & Folklore       0.67      0.15      0.25        13\n",
      "              Nature       0.65      0.58      0.61        26\n",
      "\n",
      "            accuracy                           0.77       115\n",
      "           macro avg       0.71      0.55      0.57       115\n",
      "        weighted avg       0.75      0.77      0.74       115\n",
      "\n"
     ]
    }
   ],
   "source": [
    "from sklearn.linear_model import LogisticRegression\n",
    "from sklearn.feature_extraction.text import TfidfVectorizer\n",
    "from sklearn.model_selection import train_test_split\n",
    "from sklearn.metrics import accuracy_score, classification_report\n",
    "\n",
    "#using preprocessed poem for Tf-IDF\n",
    "X = df['preprocessed_poem'].apply(lambda x: ' '.join(x)).values\n",
    "y = df['Genre'].values\n",
    "\n",
    "#spliting for training and testing \n",
    "X_train, X_test, y_train, y_test = train_test_split(X, y, test_size=0.2, random_state=42)\n",
    "\n",
    "#TF-IDF vectorizer \n",
    "tfidf_vectorizer = TfidfVectorizer()\n",
    "X_train_tfidf = tfidf_vectorizer.fit_transform(X_train)\n",
    "X_test_tfidf = tfidf_vectorizer.transform(X_test)\n",
    "\n",
    "#logistic regression \n",
    "logistic_model = LogisticRegression()\n",
    "logistic_model.fit(X_train_tfidf, y_train)\n",
    "\n",
    "\n",
    "y_pred = logistic_model.predict(X_test_tfidf)\n",
    "\n",
    "\n",
    "accuracy = accuracy_score(y_test, y_pred)\n",
    "print(f'Accuracy: {accuracy:.2f}')\n",
    "\n",
    "#calssification report \n",
    "classification_rep = classification_report(y_test, y_pred)\n",
    "print('Classification Report:\\n', classification_rep)\n"
   ]
  },
  {
   "cell_type": "code",
   "execution_count": 211,
   "id": "c26a15fd",
   "metadata": {},
   "outputs": [
    {
     "name": "stdout",
     "output_type": "stream",
     "text": [
      "Accuracy: 0.76\n",
      "Classification Report:\n",
      "                       precision    recall  f1-score   support\n",
      "\n",
      "                Love       0.82      0.89      0.86        76\n",
      "Mythology & Folklore       0.67      0.15      0.25        13\n",
      "              Nature       0.59      0.65      0.62        26\n",
      "\n",
      "            accuracy                           0.76       115\n",
      "           macro avg       0.69      0.57      0.57       115\n",
      "        weighted avg       0.75      0.76      0.73       115\n",
      "\n"
     ]
    }
   ],
   "source": [
    "from sklearn.svm import SVC\n",
    "from sklearn.feature_extraction.text import TfidfVectorizer\n",
    "from sklearn.model_selection import train_test_split\n",
    "from sklearn.metrics import accuracy_score, classification_report\n",
    "\n",
    "\n",
    "X = df['preprocessed_poem'].apply(lambda x: ' '.join(x)).values\n",
    "y = df['Genre'].values\n",
    "\n",
    "# Split the data into training and testing sets\n",
    "X_train, X_test, y_train, y_test = train_test_split(X, y, test_size=0.2, random_state=42)\n",
    "\n",
    "# TF-IDF vectorization\n",
    "tfidf_vectorizer = TfidfVectorizer()\n",
    "X_train_tfidf = tfidf_vectorizer.fit_transform(X_train)\n",
    "X_test_tfidf = tfidf_vectorizer.transform(X_test)\n",
    "\n",
    "# Support Vector Classification (SVC)\n",
    "svc_model = SVC(kernel='linear')  \n",
    "svc_model.fit(X_train_tfidf, y_train)\n",
    "\n",
    "# Make predictions on the test set\n",
    "y_pred = svc_model.predict(X_test_tfidf)\n",
    "\n",
    "# Evaluate the model\n",
    "accuracy = accuracy_score(y_test, y_pred)\n",
    "print(f'Accuracy: {accuracy:.2f}')\n",
    "\n",
    "classification_rep = classification_report(y_test, y_pred)\n",
    "print('Classification Report:\\n', classification_rep)\n"
   ]
  },
  {
   "cell_type": "code",
   "execution_count": 219,
   "id": "b184a811",
   "metadata": {},
   "outputs": [],
   "source": [
    "from gensim.models import Word2Vec\n",
    "import numpy as np\n",
    "\n",
    "\n",
    "tokenized_poems = df['preprocessed_poem'].tolist()\n",
    "\n",
    "# Train Word2Vec model and ive changed vector size to 400 this helped us to improve the accuracy of the model from 65 to 70 %\n",
    "#word2vec_model = Word2Vec(sentences=tokenized_poems, vector_size=400, window=10, min_count=1, workers=4)\n",
    "word2vec_model = Word2Vec(sentences=tokenized_poems, vector_size=400, window=10, min_count=1, workers=4)\n",
    "def calculate_sentence_vector(sentence, model):\n",
    "    vector_size = model.vector_size\n",
    "    wv_res = np.zeros(vector_size)\n",
    "    ctr = 1\n",
    "    for word in sentence:\n",
    "        if word in model.wv:\n",
    "            ctr += 1\n",
    "            wv_res += model.wv[word]\n",
    "    if ctr > 1:\n",
    "        wv_res = wv_res / ctr\n",
    "    return wv_res\n",
    "\n",
    "# using that trained  model\n",
    "df['vec'] = df['preprocessed_poem'].apply(lambda x: calculate_sentence_vector(x, word2vec_model))\n",
    "X = df['vec'].to_list()\n",
    "y = df['Genre'].to_list()\n",
    "\n"
   ]
  },
  {
   "cell_type": "code",
   "execution_count": 220,
   "id": "d6f0e48c",
   "metadata": {},
   "outputs": [
    {
     "name": "stdout",
     "output_type": "stream",
     "text": [
      "                      precision    recall  f1-score   support\n",
      "\n",
      "                Love       0.70      0.84      0.76        62\n",
      "Mythology & Folklore       0.00      0.00      0.00         8\n",
      "              Nature       0.68      0.62      0.65        45\n",
      "\n",
      "            accuracy                           0.70       115\n",
      "           macro avg       0.46      0.49      0.47       115\n",
      "        weighted avg       0.65      0.70      0.67       115\n",
      "\n"
     ]
    },
    {
     "name": "stderr",
     "output_type": "stream",
     "text": [
      "C:\\Users\\rithi\\anaconda3\\Lib\\site-packages\\sklearn\\metrics\\_classification.py:1469: UndefinedMetricWarning: Precision and F-score are ill-defined and being set to 0.0 in labels with no predicted samples. Use `zero_division` parameter to control this behavior.\n",
      "  _warn_prf(average, modifier, msg_start, len(result))\n",
      "C:\\Users\\rithi\\anaconda3\\Lib\\site-packages\\sklearn\\metrics\\_classification.py:1469: UndefinedMetricWarning: Precision and F-score are ill-defined and being set to 0.0 in labels with no predicted samples. Use `zero_division` parameter to control this behavior.\n",
      "  _warn_prf(average, modifier, msg_start, len(result))\n",
      "C:\\Users\\rithi\\anaconda3\\Lib\\site-packages\\sklearn\\metrics\\_classification.py:1469: UndefinedMetricWarning: Precision and F-score are ill-defined and being set to 0.0 in labels with no predicted samples. Use `zero_division` parameter to control this behavior.\n",
      "  _warn_prf(average, modifier, msg_start, len(result))\n"
     ]
    }
   ],
   "source": [
    "from sklearn.model_selection import train_test_split\n",
    "from sklearn.svm import SVC\n",
    "from sklearn.metrics import classification_report\n",
    "X_train, X_test, y_train, y_test = train_test_split(X, y, test_size=0.2, random_state=50)\n",
    "\n",
    "\n",
    "svm_model = SVC(kernel='linear')\n",
    "svm_model.fit(X_train, y_train)\n",
    "\n",
    "y_pred = svm_model.predict(X_test)\n",
    "\n",
    "\n",
    "print(classification_report(y_test, y_pred))"
   ]
  },
  {
   "cell_type": "code",
   "execution_count": 214,
   "id": "e110c995",
   "metadata": {},
   "outputs": [
    {
     "name": "stdout",
     "output_type": "stream",
     "text": [
      "                      precision    recall  f1-score   support\n",
      "\n",
      "                Love       0.82      0.83      0.82        76\n",
      "Mythology & Folklore       0.00      0.00      0.00        13\n",
      "              Nature       0.45      0.65      0.53        26\n",
      "\n",
      "            accuracy                           0.70       115\n",
      "           macro avg       0.42      0.49      0.45       115\n",
      "        weighted avg       0.64      0.70      0.66       115\n",
      "\n"
     ]
    },
    {
     "name": "stderr",
     "output_type": "stream",
     "text": [
      "C:\\Users\\rithi\\anaconda3\\Lib\\site-packages\\sklearn\\metrics\\_classification.py:1469: UndefinedMetricWarning: Precision and F-score are ill-defined and being set to 0.0 in labels with no predicted samples. Use `zero_division` parameter to control this behavior.\n",
      "  _warn_prf(average, modifier, msg_start, len(result))\n",
      "C:\\Users\\rithi\\anaconda3\\Lib\\site-packages\\sklearn\\metrics\\_classification.py:1469: UndefinedMetricWarning: Precision and F-score are ill-defined and being set to 0.0 in labels with no predicted samples. Use `zero_division` parameter to control this behavior.\n",
      "  _warn_prf(average, modifier, msg_start, len(result))\n",
      "C:\\Users\\rithi\\anaconda3\\Lib\\site-packages\\sklearn\\metrics\\_classification.py:1469: UndefinedMetricWarning: Precision and F-score are ill-defined and being set to 0.0 in labels with no predicted samples. Use `zero_division` parameter to control this behavior.\n",
      "  _warn_prf(average, modifier, msg_start, len(result))\n"
     ]
    }
   ],
   "source": [
    "from sklearn.model_selection import train_test_split\n",
    "from sklearn.linear_model import LogisticRegression\n",
    "from sklearn.metrics import classification_report\n",
    "\n",
    "\n",
    "X_train, X_test, y_train, y_test = train_test_split(X, y, test_size=0.2, random_state=42)\n",
    "\n",
    "# Logistic Regression model\n",
    "logistic_model = LogisticRegression()\n",
    "logistic_model.fit(X_train, y_train)\n",
    "\n",
    "\n",
    "y_pred = logistic_model.predict(X_test)\n",
    "\n",
    "# Classification Report\n",
    "print(classification_report(y_test, y_pred))\n"
   ]
  },
  {
   "cell_type": "code",
   "execution_count": 215,
   "id": "80af5a4a",
   "metadata": {},
   "outputs": [
    {
     "data": {
      "image/png": "[encoded data removed]",
      "text/plain": [
       "<Figure size 1000x600 with 1 Axes>"
      ]
     },
     "metadata": {},
     "output_type": "display_data"
    }
   ],
   "source": [
    "import seaborn as sns\n",
    "import matplotlib.pyplot as plt\n",
    "\n",
    "\n",
    "sns.set(style=\"darkgrid\")\n",
    "plt.figure(figsize=(10, 6))\n",
    "\n",
    "# using countplot for genre \n",
    "sns.countplot(x='Genre', data=df)\n",
    "\n",
    "\n",
    "plt.xticks(rotation=45, ha='right')\n",
    "\n",
    "\n",
    "plt.xlabel('Genre')\n",
    "plt.ylabel('Count')\n",
    "plt.title('Genre Distribution in the Dataset')\n",
    "\n",
    "\n",
    "plt.show()\n"
   ]
  },
  {
   "cell_type": "code",
   "execution_count": 216,
   "id": "cbdf1bbe",
   "metadata": {},
   "outputs": [
    {
     "data": {
      "image/png": "[encoded data removed]",
      "text/plain": [
       "<Figure size 1000x1000 with 1 Axes>"
      ]
     },
     "metadata": {},
     "output_type": "display_data"
    }
   ],
   "source": [
    "import matplotlib.pyplot as plt\n",
    "\n",
    "\n",
    "genre_counts = df['Genre'].value_counts()\n",
    "\n",
    "plt.figure(figsize=(10, 10))\n",
    "\n",
    "# Pie chart\n",
    "plt.pie(genre_counts, labels=genre_counts.index, autopct='%1.1f%%', startangle=140)\n",
    "\n",
    "\n",
    "plt.axis('equal')\n",
    "\n",
    "\n",
    "plt.title('Genre Distribution in the Dataset')\n",
    "\n",
    "\n",
    "plt.show()\n"
   ]
  }
 ],
 "metadata": {
  "kernelspec": {
   "display_name": "Python 3 (ipykernel)",
   "language": "python",
   "name": "python3"
  },
  "language_info": {
   "codemirror_mode": {
    "name": "ipython",
    "version": 3
   },
   "file_extension": ".py",
   "mimetype": "text/x-python",
   "name": "python",
   "nbconvert_exporter": "python",
   "pygments_lexer": "ipython3",
   "version": "3.11.4"
  }
 },
 "nbformat": 4,
 "nbformat_minor": 5
}
